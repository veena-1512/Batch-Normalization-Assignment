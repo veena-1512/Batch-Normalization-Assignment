{
 "cells": [
  {
   "cell_type": "markdown",
   "id": "46a5dc55-4270-4609-b780-9d1c61576046",
   "metadata": {},
   "source": [
    "Q1. Explain the concept of batch normalization in the context of Artificial Neural Networksr.\n",
    "\n",
    "Batch Normalization (BN) is a technique used in the training of artificial neural networks to address issues related to internal covariate shift. Internal covariate shift refers to the change in the distribution of the inputs to a layer during training, which can make the training process more challenging.\n",
    "\n",
    "In a neural network, each layer receives inputs from the previous layer, and these inputs can vary in scale and distribution as the network learns. This can lead to slower convergence and make it difficult to choose an appropriate learning rate. Batch Normalization aims to mitigate these issues by normalizing the inputs to a layer.\n",
    "\n",
    "Here's a high-level overview of how Batch Normalization works:\n",
    "\n",
    "1. Normalization: In each mini-batch during training, Batch Normalization normalizes the inputs by subtracting the batch mean and dividing by the batch standard deviation. This helps to center and normalize the inputs, reducing internal covariate shift.\n",
    "\n",
    "2. Scaling and Shifting: After normalization, the normalized inputs are scaled and shifted using learnable parameters (gamma and beta). This allows the model to learn the optimal scale and shift for each feature, providing some flexibility to the normalization process.\n",
    "\n",
    "The normalized and transformed inputs are given by the following formula:\n",
    "\n",
    "BN(xi)=γ( xi−μ/σ)+β\n",
    "\n",
    "where:\n",
    "\n",
    "xi is the input to the layer.\n",
    "μ is the mean of the mini-batch.\n",
    "σ is the standard deviation of the mini-batch.\n",
    "γ is a learnable scaling parameter.\n",
    "β is a learnable shifting parameter.\n",
    "\n",
    "1. Training and Inference Phases: During training, Batch Normalization uses the mean and standard deviation of the current mini-batch. However, during inference, it uses the moving averages of the mean and standard deviation computed during training. This ensures that the model can generalize well to unseen data.\n",
    "Batch Normalization provides several benefits, including:\n",
    "\n",
    "\n",
    "a. Faster Convergence: Normalizing inputs helps in maintaining a stable distribution of inputs throughout training, which can lead to faster convergence.\n",
    "\n",
    "b. Reduced Sensitivity to Initialization: BN reduces the sensitivity of the network to the choice of initial weights.\n",
    "\n",
    "c. Regularization Effect: Batch Normalization acts as a form of regularization, reducing the need for other regularization techniques like dropout in some cases.\n"
   ]
  },
  {
   "cell_type": "markdown",
   "id": "4968d7c3-7151-4f5f-9fb8-2f3ecc5158da",
   "metadata": {},
   "source": [
    "Q2. Describe the benefits of using batch normalization during training.\n",
    "\n",
    "Batch Normalization (BN) provides several benefits during the training of neural networks:\n",
    "\n",
    "1. Stability and Faster Convergence: One of the primary benefits of Batch Normalization is that it helps stabilize and accelerate the training process. By normalizing the inputs to each layer, BN mitigates the internal covariate shift problem, where the distribution of inputs to a layer changes during training. This stability often leads to faster convergence, allowing the neural network to reach a good solution more quickly.\n",
    "\n",
    "2. Reduced Sensitivity to Initialization: BN reduces the dependence of the network on the initial weights. Neural networks can be sensitive to the choice of initial weights, and Batch Normalization helps mitigate this issue by normalizing inputs, making the training less dependent on the initial weight values.\n",
    "\n",
    "3. Higher Learning Rates: Batch Normalization enables the use of higher learning rates during training. The normalization of inputs helps prevent large updates in the weights, allowing for more aggressive learning rates without the risk of diverging or oscillating during training.\n",
    "\n",
    "4. Mitigation of Vanishing and Exploding Gradients: BN helps alleviate the vanishing and exploding gradient problems. By normalizing the inputs, it keeps the gradients within a reasonable range, making it easier to train deep networks without the issues associated with extremely small or large gradients.\n",
    "\n",
    "5. Regularization Effect: Batch Normalization has a slight regularizing effect, reducing the need for other regularization techniques such as dropout in some cases. The normalization process introduces some noise to the training process, acting as a form of implicit regularization that can prevent overfitting.\n",
    "\n",
    "6. Improved Generalization: The normalization process performed by BN at each mini-batch helps the model generalize better to unseen data. It can reduce the impact of variations in input distribution, making the network more robust and better able to handle different datasets.\n",
    "\n",
    "7. Facilitates Training of Deeper Networks: Batch Normalization is particularly beneficial when training deep neural networks. As the depth of the network increases, the internal covariate shift problem becomes more pronounced, and BN helps mitigate this issue, making it easier to train deep architectures.\n",
    "\n",
    "8. Compatibility with Different Activation Functions: Batch Normalization is compatible with various activation functions, allowing for flexibility in choosing the non-linearities in different parts of the network."
   ]
  },
  {
   "cell_type": "markdown",
   "id": "73eb1e2f-5e02-44fc-a8d4-6215e745d480",
   "metadata": {},
   "source": [
    "Q3. Discuss the working principle of batch normalization, including the normalization step and the learnable\n",
    "parameters.\n",
    "\n",
    "Batch Normalization (BN) works by normalizing the inputs of a neural network layer during training, which helps address the internal covariate shift problem. The internal covariate shift refers to the change in the distribution of inputs to a layer as the network trains, which can slow down the learning process. Batch Normalization introduces normalization and learnable parameters to tackle this issue.\n",
    "\n",
    "The working principle of Batch Normalization involves the following steps:\n",
    "\n",
    "Normalization Step:\n",
    "\n",
    "For a given mini-batch during training, the normalization step involves subtracting the mean and dividing by the standard deviation. Given an input \n",
    "xi from the mini-batch, the normalized output yi is calculated as follows:\n",
    "\n",
    "Yi=xi-μ/σ\n",
    "\n",
    "where:\n",
    "xi is the input.\n",
    "μ is the mean of the mini-batch.\n",
    "σ is the standard deviation of the mini-batch.\n",
    "\n",
    "2. Scaling and Shifting:\n",
    "\n",
    "After normalization, the normalized inputs are scaled and shifted using learnable parameters. This is to reintroduce the ability of the model to choose its own scale and shift for each feature. The scaled and shifted outputs (zi)are obtained using the following formula:\n",
    "zi=γi+β\n",
    " \n",
    " where:\n",
    "\n",
    "γ is a learnable scaling parameter.\n",
    "β is a learnable shifting parameter.\n",
    "\n",
    "3. Training and Inference Phases:\n",
    "\n",
    "During training, the mean and standard deviation used for normalization are calculated based on the current mini-batch. This introduces a slight noise to the training process, which acts as a regularizing effect.\n",
    "\n",
    "During inference, the mean and standard deviation used for normalization are typically replaced with moving averages computed during training. This ensures that the model generalizes well to unseen data by using statistics accumulated over the entire training process.\n",
    "\n"
   ]
  },
  {
   "cell_type": "markdown",
   "id": "7cf75b39-7b01-4163-9cc6-f2e196a9647d",
   "metadata": {},
   "source": [
    "ImpementatiTn:- "
   ]
  },
  {
   "cell_type": "markdown",
   "id": "ecf1334b-0b1a-4842-829e-a458a5ae8af1",
   "metadata": {},
   "source": [
    "Q2. Choose a dataset of  MNIST and preprocess itr"
   ]
  },
  {
   "cell_type": "code",
   "execution_count": 1,
   "id": "780bbdea-5741-4a97-83f0-08613b1e32f0",
   "metadata": {},
   "outputs": [
    {
     "name": "stdout",
     "output_type": "stream",
     "text": [
      "Collecting tensorflow\n",
      "  Downloading tensorflow-2.15.0.post1-cp310-cp310-manylinux_2_17_x86_64.manylinux2014_x86_64.whl (475.2 MB)\n",
      "\u001b[2K     \u001b[90m━━━━━━━━━━━━━━━━━━━━━━━━━━━━━━━━━━━━━━━\u001b[0m \u001b[32m475.2/475.2 MB\u001b[0m \u001b[31m3.0 MB/s\u001b[0m eta \u001b[36m0:00:00\u001b[0m00:01\u001b[0m00:01\u001b[0m\n",
      "\u001b[?25hCollecting libclang>=13.0.0\n",
      "  Downloading libclang-16.0.6-py2.py3-none-manylinux2010_x86_64.whl (22.9 MB)\n",
      "\u001b[2K     \u001b[90m━━━━━━━━━━━━━━━━━━━━━━━━━━━━━━━━━━━━━━━━\u001b[0m \u001b[32m22.9/22.9 MB\u001b[0m \u001b[31m54.5 MB/s\u001b[0m eta \u001b[36m0:00:00\u001b[0m00:01\u001b[0m00:01\u001b[0m\n",
      "\u001b[?25hCollecting google-pasta>=0.1.1\n",
      "  Downloading google_pasta-0.2.0-py3-none-any.whl (57 kB)\n",
      "\u001b[2K     \u001b[90m━━━━━━━━━━━━━━━━━━━━━━━━━━━━━━━━━━━━━━━━\u001b[0m \u001b[32m57.5/57.5 kB\u001b[0m \u001b[31m11.2 MB/s\u001b[0m eta \u001b[36m0:00:00\u001b[0m\n",
      "\u001b[?25hCollecting grpcio<2.0,>=1.24.3\n",
      "  Downloading grpcio-1.60.0-cp310-cp310-manylinux_2_17_x86_64.manylinux2014_x86_64.whl (5.4 MB)\n",
      "\u001b[2K     \u001b[90m━━━━━━━━━━━━━━━━━━━━━━━━━━━━━━━━━━━━━━━━\u001b[0m \u001b[32m5.4/5.4 MB\u001b[0m \u001b[31m72.1 MB/s\u001b[0m eta \u001b[36m0:00:00\u001b[0m:00:01\u001b[0m00:01\u001b[0m\n",
      "\u001b[?25hCollecting absl-py>=1.0.0\n",
      "  Downloading absl_py-2.1.0-py3-none-any.whl (133 kB)\n",
      "\u001b[2K     \u001b[90m━━━━━━━━━━━━━━━━━━━━━━━━━━━━━━━━━━━━━━\u001b[0m \u001b[32m133.7/133.7 kB\u001b[0m \u001b[31m23.5 MB/s\u001b[0m eta \u001b[36m0:00:00\u001b[0m\n",
      "\u001b[?25hCollecting opt-einsum>=2.3.2\n",
      "  Downloading opt_einsum-3.3.0-py3-none-any.whl (65 kB)\n",
      "\u001b[2K     \u001b[90m━━━━━━━━━━━━━━━━━━━━━━━━━━━━━━━━━━━━━━━━\u001b[0m \u001b[32m65.5/65.5 kB\u001b[0m \u001b[31m11.7 MB/s\u001b[0m eta \u001b[36m0:00:00\u001b[0m\n",
      "\u001b[?25hCollecting tensorboard<2.16,>=2.15\n",
      "  Downloading tensorboard-2.15.1-py3-none-any.whl (5.5 MB)\n",
      "\u001b[2K     \u001b[90m━━━━━━━━━━━━━━━━━━━━━━━━━━━━━━━━━━━━━━━━\u001b[0m \u001b[32m5.5/5.5 MB\u001b[0m \u001b[31m77.9 MB/s\u001b[0m eta \u001b[36m0:00:00\u001b[0m:00:01\u001b[0m00:01\u001b[0m\n",
      "\u001b[?25hRequirement already satisfied: typing-extensions>=3.6.6 in /opt/conda/lib/python3.10/site-packages (from tensorflow) (4.4.0)\n",
      "Collecting wrapt<1.15,>=1.11.0\n",
      "  Downloading wrapt-1.14.1-cp310-cp310-manylinux_2_5_x86_64.manylinux1_x86_64.manylinux_2_17_x86_64.manylinux2014_x86_64.whl (77 kB)\n",
      "\u001b[2K     \u001b[90m━━━━━━━━━━━━━━━━━━━━━━━━━━━━━━━━━━━━━━━━\u001b[0m \u001b[32m77.9/77.9 kB\u001b[0m \u001b[31m5.2 MB/s\u001b[0m eta \u001b[36m0:00:00\u001b[0m\n",
      "\u001b[?25hCollecting tensorflow-estimator<2.16,>=2.15.0\n",
      "  Downloading tensorflow_estimator-2.15.0-py2.py3-none-any.whl (441 kB)\n",
      "\u001b[2K     \u001b[90m━━━━━━━━━━━━━━━━━━━━━━━━━━━━━━━━━━━━━━\u001b[0m \u001b[32m442.0/442.0 kB\u001b[0m \u001b[31m41.6 MB/s\u001b[0m eta \u001b[36m0:00:00\u001b[0m\n",
      "\u001b[?25hCollecting ml-dtypes~=0.2.0\n",
      "  Downloading ml_dtypes-0.2.0-cp310-cp310-manylinux_2_17_x86_64.manylinux2014_x86_64.whl (1.0 MB)\n",
      "\u001b[2K     \u001b[90m━━━━━━━━━━━━━━━━━━━━━━━━━━━━━━━━━━━━━━━━\u001b[0m \u001b[32m1.0/1.0 MB\u001b[0m \u001b[31m64.3 MB/s\u001b[0m eta \u001b[36m0:00:00\u001b[0m\n",
      "\u001b[?25hCollecting flatbuffers>=23.5.26\n",
      "  Downloading flatbuffers-23.5.26-py2.py3-none-any.whl (26 kB)\n",
      "Collecting gast!=0.5.0,!=0.5.1,!=0.5.2,>=0.2.1\n",
      "  Downloading gast-0.5.4-py3-none-any.whl (19 kB)\n",
      "Requirement already satisfied: setuptools in /opt/conda/lib/python3.10/site-packages (from tensorflow) (65.5.1)\n",
      "Collecting keras<2.16,>=2.15.0\n",
      "  Downloading keras-2.15.0-py3-none-any.whl (1.7 MB)\n",
      "\u001b[2K     \u001b[90m━━━━━━━━━━━━━━━━━━━━━━━━━━━━━━━━━━━━━━━━\u001b[0m \u001b[32m1.7/1.7 MB\u001b[0m \u001b[31m72.3 MB/s\u001b[0m eta \u001b[36m0:00:00\u001b[0m\n",
      "\u001b[?25hRequirement already satisfied: numpy<2.0.0,>=1.23.5 in /opt/conda/lib/python3.10/site-packages (from tensorflow) (1.23.5)\n",
      "Requirement already satisfied: h5py>=2.9.0 in /opt/conda/lib/python3.10/site-packages (from tensorflow) (3.7.0)\n",
      "Requirement already satisfied: six>=1.12.0 in /opt/conda/lib/python3.10/site-packages (from tensorflow) (1.16.0)\n",
      "Collecting tensorflow-io-gcs-filesystem>=0.23.1\n",
      "  Downloading tensorflow_io_gcs_filesystem-0.35.0-cp310-cp310-manylinux_2_17_x86_64.manylinux2014_x86_64.whl (3.2 MB)\n",
      "\u001b[2K     \u001b[90m━━━━━━━━━━━━━━━━━━━━━━━━━━━━━━━━━━━━━━━━\u001b[0m \u001b[32m3.2/3.2 MB\u001b[0m \u001b[31m78.4 MB/s\u001b[0m eta \u001b[36m0:00:00\u001b[0m:00:01\u001b[0m\n",
      "\u001b[?25hCollecting termcolor>=1.1.0\n",
      "  Downloading termcolor-2.4.0-py3-none-any.whl (7.7 kB)\n",
      "Requirement already satisfied: protobuf!=4.21.0,!=4.21.1,!=4.21.2,!=4.21.3,!=4.21.4,!=4.21.5,<5.0.0dev,>=3.20.3 in /opt/conda/lib/python3.10/site-packages (from tensorflow) (4.21.11)\n",
      "Collecting astunparse>=1.6.0\n",
      "  Downloading astunparse-1.6.3-py2.py3-none-any.whl (12 kB)\n",
      "Requirement already satisfied: packaging in /opt/conda/lib/python3.10/site-packages (from tensorflow) (22.0)\n",
      "Requirement already satisfied: wheel<1.0,>=0.23.0 in /opt/conda/lib/python3.10/site-packages (from astunparse>=1.6.0->tensorflow) (0.38.4)\n",
      "Requirement already satisfied: requests<3,>=2.21.0 in /opt/conda/lib/python3.10/site-packages (from tensorboard<2.16,>=2.15->tensorflow) (2.28.1)\n",
      "Collecting google-auth-oauthlib<2,>=0.5\n",
      "  Downloading google_auth_oauthlib-1.2.0-py2.py3-none-any.whl (24 kB)\n",
      "Collecting google-auth<3,>=1.6.3\n",
      "  Downloading google_auth-2.27.0-py2.py3-none-any.whl (186 kB)\n",
      "\u001b[2K     \u001b[90m━━━━━━━━━━━━━━━━━━━━━━━━━━━━━━━━━━━━━━\u001b[0m \u001b[32m186.8/186.8 kB\u001b[0m \u001b[31m28.6 MB/s\u001b[0m eta \u001b[36m0:00:00\u001b[0m\n",
      "\u001b[?25hCollecting tensorboard-data-server<0.8.0,>=0.7.0\n",
      "  Downloading tensorboard_data_server-0.7.2-py3-none-manylinux_2_31_x86_64.whl (6.6 MB)\n",
      "\u001b[2K     \u001b[90m━━━━━━━━━━━━━━━━━━━━━━━━━━━━━━━━━━━━━━━━\u001b[0m \u001b[32m6.6/6.6 MB\u001b[0m \u001b[31m80.7 MB/s\u001b[0m eta \u001b[36m0:00:00\u001b[0m:00:01\u001b[0m00:01\u001b[0m\n",
      "\u001b[?25hCollecting werkzeug>=1.0.1\n",
      "  Downloading werkzeug-3.0.1-py3-none-any.whl (226 kB)\n",
      "\u001b[2K     \u001b[90m━━━━━━━━━━━━━━━━━━━━━━━━━━━━━━━━━━━━━━\u001b[0m \u001b[32m226.7/226.7 kB\u001b[0m \u001b[31m29.2 MB/s\u001b[0m eta \u001b[36m0:00:00\u001b[0m\n",
      "\u001b[?25hCollecting markdown>=2.6.8\n",
      "  Downloading Markdown-3.5.2-py3-none-any.whl (103 kB)\n",
      "\u001b[2K     \u001b[90m━━━━━━━━━━━━━━━━━━━━━━━━━━━━━━━━━━━━━━\u001b[0m \u001b[32m103.9/103.9 kB\u001b[0m \u001b[31m17.5 MB/s\u001b[0m eta \u001b[36m0:00:00\u001b[0m\n",
      "\u001b[?25hCollecting pyasn1-modules>=0.2.1\n",
      "  Downloading pyasn1_modules-0.3.0-py2.py3-none-any.whl (181 kB)\n",
      "\u001b[2K     \u001b[90m━━━━━━━━━━━━━━━━━━━━━━━━━━━━━━━━━━━━━━\u001b[0m \u001b[32m181.3/181.3 kB\u001b[0m \u001b[31m20.0 MB/s\u001b[0m eta \u001b[36m0:00:00\u001b[0m\n",
      "\u001b[?25hCollecting cachetools<6.0,>=2.0.0\n",
      "  Downloading cachetools-5.3.2-py3-none-any.whl (9.3 kB)\n",
      "Collecting rsa<5,>=3.1.4\n",
      "  Downloading rsa-4.9-py3-none-any.whl (34 kB)\n",
      "Collecting requests-oauthlib>=0.7.0\n",
      "  Downloading requests_oauthlib-1.3.1-py2.py3-none-any.whl (23 kB)\n",
      "Requirement already satisfied: urllib3<1.27,>=1.21.1 in /opt/conda/lib/python3.10/site-packages (from requests<3,>=2.21.0->tensorboard<2.16,>=2.15->tensorflow) (1.26.13)\n",
      "Requirement already satisfied: charset-normalizer<3,>=2 in /opt/conda/lib/python3.10/site-packages (from requests<3,>=2.21.0->tensorboard<2.16,>=2.15->tensorflow) (2.1.1)\n",
      "Requirement already satisfied: certifi>=2017.4.17 in /opt/conda/lib/python3.10/site-packages (from requests<3,>=2.21.0->tensorboard<2.16,>=2.15->tensorflow) (2022.12.7)\n",
      "Requirement already satisfied: idna<4,>=2.5 in /opt/conda/lib/python3.10/site-packages (from requests<3,>=2.21.0->tensorboard<2.16,>=2.15->tensorflow) (3.4)\n",
      "Requirement already satisfied: MarkupSafe>=2.1.1 in /opt/conda/lib/python3.10/site-packages (from werkzeug>=1.0.1->tensorboard<2.16,>=2.15->tensorflow) (2.1.1)\n",
      "Collecting pyasn1<0.6.0,>=0.4.6\n",
      "  Downloading pyasn1-0.5.1-py2.py3-none-any.whl (84 kB)\n",
      "\u001b[2K     \u001b[90m━━━━━━━━━━━━━━━━━━━━━━━━━━━━━━━━━━━━━━━━\u001b[0m \u001b[32m84.9/84.9 kB\u001b[0m \u001b[31m13.8 MB/s\u001b[0m eta \u001b[36m0:00:00\u001b[0m\n",
      "\u001b[?25hRequirement already satisfied: oauthlib>=3.0.0 in /opt/conda/lib/python3.10/site-packages (from requests-oauthlib>=0.7.0->google-auth-oauthlib<2,>=0.5->tensorboard<2.16,>=2.15->tensorflow) (3.2.2)\n",
      "Installing collected packages: libclang, flatbuffers, wrapt, werkzeug, termcolor, tensorflow-io-gcs-filesystem, tensorflow-estimator, tensorboard-data-server, pyasn1, opt-einsum, ml-dtypes, markdown, keras, grpcio, google-pasta, gast, cachetools, astunparse, absl-py, rsa, requests-oauthlib, pyasn1-modules, google-auth, google-auth-oauthlib, tensorboard, tensorflow\n",
      "Successfully installed absl-py-2.1.0 astunparse-1.6.3 cachetools-5.3.2 flatbuffers-23.5.26 gast-0.5.4 google-auth-2.27.0 google-auth-oauthlib-1.2.0 google-pasta-0.2.0 grpcio-1.60.0 keras-2.15.0 libclang-16.0.6 markdown-3.5.2 ml-dtypes-0.2.0 opt-einsum-3.3.0 pyasn1-0.5.1 pyasn1-modules-0.3.0 requests-oauthlib-1.3.1 rsa-4.9 tensorboard-2.15.1 tensorboard-data-server-0.7.2 tensorflow-2.15.0.post1 tensorflow-estimator-2.15.0 tensorflow-io-gcs-filesystem-0.35.0 termcolor-2.4.0 werkzeug-3.0.1 wrapt-1.14.1\n"
     ]
    },
    {
     "name": "stderr",
     "output_type": "stream",
     "text": [
      "2024-02-01 07:20:50.243439: I external/local_tsl/tsl/cuda/cudart_stub.cc:31] Could not find cuda drivers on your machine, GPU will not be used.\n",
      "2024-02-01 07:20:50.308595: E external/local_xla/xla/stream_executor/cuda/cuda_dnn.cc:9261] Unable to register cuDNN factory: Attempting to register factory for plugin cuDNN when one has already been registered\n",
      "2024-02-01 07:20:50.308670: E external/local_xla/xla/stream_executor/cuda/cuda_fft.cc:607] Unable to register cuFFT factory: Attempting to register factory for plugin cuFFT when one has already been registered\n",
      "2024-02-01 07:20:50.310183: E external/local_xla/xla/stream_executor/cuda/cuda_blas.cc:1515] Unable to register cuBLAS factory: Attempting to register factory for plugin cuBLAS when one has already been registered\n",
      "2024-02-01 07:20:50.319201: I external/local_tsl/tsl/cuda/cudart_stub.cc:31] Could not find cuda drivers on your machine, GPU will not be used.\n",
      "2024-02-01 07:20:50.319989: I tensorflow/core/platform/cpu_feature_guard.cc:182] This TensorFlow binary is optimized to use available CPU instructions in performance-critical operations.\n",
      "To enable the following instructions: AVX2 FMA, in other operations, rebuild TensorFlow with the appropriate compiler flags.\n",
      "2024-02-01 07:20:51.515964: W tensorflow/compiler/tf2tensorrt/utils/py_utils.cc:38] TF-TRT Warning: Could not find TensorRT\n"
     ]
    }
   ],
   "source": [
    "!pip install tensorflow\n",
    "import tensorflow as tf\n",
    "from tensorflow.keras import datasets, layers, models\n",
    "from tensorflow.keras.utils import to_categorical\n",
    "import matplotlib.pyplot as plt\n"
   ]
  },
  {
   "cell_type": "code",
   "execution_count": 4,
   "id": "272e725d-dd22-4473-958f-6e48f8066512",
   "metadata": {},
   "outputs": [],
   "source": [
    "mnist = tf.keras.datasets.mnist\n",
    "(x_train, y_train), (x_test, y_test) = mnist.load_data()"
   ]
  },
  {
   "cell_type": "code",
   "execution_count": 5,
   "id": "b926a191-1f7c-4b75-b8ae-521342290558",
   "metadata": {},
   "outputs": [],
   "source": [
    "x_train, x_test = x_train / 255.0, x_test / 255.0"
   ]
  },
  {
   "cell_type": "code",
   "execution_count": 6,
   "id": "5eca019a-a664-4427-8613-594fc80211c6",
   "metadata": {},
   "outputs": [],
   "source": [
    "x_train = x_train.reshape(x_train.shape[0], 28, 28, 1)\n",
    "x_test = x_test.reshape(x_test.shape[0], 28, 28, 1)"
   ]
  },
  {
   "cell_type": "code",
   "execution_count": 7,
   "id": "cd57068c-8ae4-478f-85e5-32020e457424",
   "metadata": {},
   "outputs": [],
   "source": [
    "y_train = tf.keras.utils.to_categorical(y_train, 10)\n",
    "y_test = tf.keras.utils.to_categorical(y_test, 10)"
   ]
  },
  {
   "cell_type": "code",
   "execution_count": 8,
   "id": "a90ffb4d-9d81-4630-92e5-bd336cb00204",
   "metadata": {},
   "outputs": [
    {
     "name": "stdout",
     "output_type": "stream",
     "text": [
      "Number of training examples: 60000\n",
      "Number of testing examples: 10000\n",
      "Shape of each image: (28, 28, 1)\n",
      "Number of classes: 10\n"
     ]
    }
   ],
   "source": [
    "print(\"Number of training examples:\", x_train.shape[0])\n",
    "print(\"Number of testing examples:\", x_test.shape[0])\n",
    "print(\"Shape of each image:\", x_train[0].shape)\n",
    "print(\"Number of classes:\", y_train.shape[1])"
   ]
  },
  {
   "cell_type": "markdown",
   "id": "87a9e0be-5ecc-4427-8d21-486db1dd1830",
   "metadata": {},
   "source": [
    "Q2. Implement a simple feedforward neural network using deep learning framework/library Tensorlow. "
   ]
  },
  {
   "cell_type": "code",
   "execution_count": 7,
   "id": "8e8f5b34-970c-4f51-9b57-052b77277da7",
   "metadata": {},
   "outputs": [
    {
     "name": "stdout",
     "output_type": "stream",
     "text": [
      "Requirement already satisfied: tensorflow in /opt/conda/lib/python3.10/site-packages (2.15.0.post1)\n",
      "Requirement already satisfied: tensorboard<2.16,>=2.15 in /opt/conda/lib/python3.10/site-packages (from tensorflow) (2.15.1)\n",
      "Requirement already satisfied: six>=1.12.0 in /opt/conda/lib/python3.10/site-packages (from tensorflow) (1.16.0)\n",
      "Requirement already satisfied: termcolor>=1.1.0 in /opt/conda/lib/python3.10/site-packages (from tensorflow) (2.4.0)\n",
      "Requirement already satisfied: absl-py>=1.0.0 in /opt/conda/lib/python3.10/site-packages (from tensorflow) (2.1.0)\n",
      "Requirement already satisfied: flatbuffers>=23.5.26 in /opt/conda/lib/python3.10/site-packages (from tensorflow) (23.5.26)\n",
      "Requirement already satisfied: h5py>=2.9.0 in /opt/conda/lib/python3.10/site-packages (from tensorflow) (3.7.0)\n",
      "Requirement already satisfied: protobuf!=4.21.0,!=4.21.1,!=4.21.2,!=4.21.3,!=4.21.4,!=4.21.5,<5.0.0dev,>=3.20.3 in /opt/conda/lib/python3.10/site-packages (from tensorflow) (4.21.11)\n",
      "Requirement already satisfied: wrapt<1.15,>=1.11.0 in /opt/conda/lib/python3.10/site-packages (from tensorflow) (1.14.1)\n",
      "Requirement already satisfied: ml-dtypes~=0.2.0 in /opt/conda/lib/python3.10/site-packages (from tensorflow) (0.2.0)\n",
      "Requirement already satisfied: opt-einsum>=2.3.2 in /opt/conda/lib/python3.10/site-packages (from tensorflow) (3.3.0)\n",
      "Requirement already satisfied: libclang>=13.0.0 in /opt/conda/lib/python3.10/site-packages (from tensorflow) (16.0.6)\n",
      "Requirement already satisfied: typing-extensions>=3.6.6 in /opt/conda/lib/python3.10/site-packages (from tensorflow) (4.4.0)\n",
      "Requirement already satisfied: astunparse>=1.6.0 in /opt/conda/lib/python3.10/site-packages (from tensorflow) (1.6.3)\n",
      "Requirement already satisfied: tensorflow-io-gcs-filesystem>=0.23.1 in /opt/conda/lib/python3.10/site-packages (from tensorflow) (0.35.0)\n",
      "Requirement already satisfied: numpy<2.0.0,>=1.23.5 in /opt/conda/lib/python3.10/site-packages (from tensorflow) (1.23.5)\n",
      "Requirement already satisfied: keras<2.16,>=2.15.0 in /opt/conda/lib/python3.10/site-packages (from tensorflow) (2.15.0)\n",
      "Requirement already satisfied: gast!=0.5.0,!=0.5.1,!=0.5.2,>=0.2.1 in /opt/conda/lib/python3.10/site-packages (from tensorflow) (0.5.4)\n",
      "Requirement already satisfied: packaging in /opt/conda/lib/python3.10/site-packages (from tensorflow) (22.0)\n",
      "Requirement already satisfied: setuptools in /opt/conda/lib/python3.10/site-packages (from tensorflow) (65.5.1)\n",
      "Requirement already satisfied: grpcio<2.0,>=1.24.3 in /opt/conda/lib/python3.10/site-packages (from tensorflow) (1.60.0)\n",
      "Requirement already satisfied: tensorflow-estimator<2.16,>=2.15.0 in /opt/conda/lib/python3.10/site-packages (from tensorflow) (2.15.0)\n",
      "Requirement already satisfied: google-pasta>=0.1.1 in /opt/conda/lib/python3.10/site-packages (from tensorflow) (0.2.0)\n",
      "Requirement already satisfied: wheel<1.0,>=0.23.0 in /opt/conda/lib/python3.10/site-packages (from astunparse>=1.6.0->tensorflow) (0.38.4)\n",
      "Requirement already satisfied: google-auth<3,>=1.6.3 in /opt/conda/lib/python3.10/site-packages (from tensorboard<2.16,>=2.15->tensorflow) (2.27.0)\n",
      "Requirement already satisfied: google-auth-oauthlib<2,>=0.5 in /opt/conda/lib/python3.10/site-packages (from tensorboard<2.16,>=2.15->tensorflow) (1.2.0)\n",
      "Requirement already satisfied: tensorboard-data-server<0.8.0,>=0.7.0 in /opt/conda/lib/python3.10/site-packages (from tensorboard<2.16,>=2.15->tensorflow) (0.7.2)\n",
      "Requirement already satisfied: werkzeug>=1.0.1 in /opt/conda/lib/python3.10/site-packages (from tensorboard<2.16,>=2.15->tensorflow) (3.0.1)\n",
      "Requirement already satisfied: requests<3,>=2.21.0 in /opt/conda/lib/python3.10/site-packages (from tensorboard<2.16,>=2.15->tensorflow) (2.28.1)\n",
      "Requirement already satisfied: markdown>=2.6.8 in /opt/conda/lib/python3.10/site-packages (from tensorboard<2.16,>=2.15->tensorflow) (3.5.2)\n",
      "Requirement already satisfied: cachetools<6.0,>=2.0.0 in /opt/conda/lib/python3.10/site-packages (from google-auth<3,>=1.6.3->tensorboard<2.16,>=2.15->tensorflow) (5.3.2)\n",
      "Requirement already satisfied: rsa<5,>=3.1.4 in /opt/conda/lib/python3.10/site-packages (from google-auth<3,>=1.6.3->tensorboard<2.16,>=2.15->tensorflow) (4.9)\n",
      "Requirement already satisfied: pyasn1-modules>=0.2.1 in /opt/conda/lib/python3.10/site-packages (from google-auth<3,>=1.6.3->tensorboard<2.16,>=2.15->tensorflow) (0.3.0)\n",
      "Requirement already satisfied: requests-oauthlib>=0.7.0 in /opt/conda/lib/python3.10/site-packages (from google-auth-oauthlib<2,>=0.5->tensorboard<2.16,>=2.15->tensorflow) (1.3.1)\n",
      "Requirement already satisfied: urllib3<1.27,>=1.21.1 in /opt/conda/lib/python3.10/site-packages (from requests<3,>=2.21.0->tensorboard<2.16,>=2.15->tensorflow) (1.26.13)\n",
      "Requirement already satisfied: certifi>=2017.4.17 in /opt/conda/lib/python3.10/site-packages (from requests<3,>=2.21.0->tensorboard<2.16,>=2.15->tensorflow) (2022.12.7)\n",
      "Requirement already satisfied: idna<4,>=2.5 in /opt/conda/lib/python3.10/site-packages (from requests<3,>=2.21.0->tensorboard<2.16,>=2.15->tensorflow) (3.4)\n",
      "Requirement already satisfied: charset-normalizer<3,>=2 in /opt/conda/lib/python3.10/site-packages (from requests<3,>=2.21.0->tensorboard<2.16,>=2.15->tensorflow) (2.1.1)\n",
      "Requirement already satisfied: MarkupSafe>=2.1.1 in /opt/conda/lib/python3.10/site-packages (from werkzeug>=1.0.1->tensorboard<2.16,>=2.15->tensorflow) (2.1.1)\n",
      "Requirement already satisfied: pyasn1<0.6.0,>=0.4.6 in /opt/conda/lib/python3.10/site-packages (from pyasn1-modules>=0.2.1->google-auth<3,>=1.6.3->tensorboard<2.16,>=2.15->tensorflow) (0.5.1)\n",
      "Requirement already satisfied: oauthlib>=3.0.0 in /opt/conda/lib/python3.10/site-packages (from requests-oauthlib>=0.7.0->google-auth-oauthlib<2,>=0.5->tensorboard<2.16,>=2.15->tensorflow) (3.2.2)\n",
      "Requirement already satisfied: keras in /opt/conda/lib/python3.10/site-packages (2.15.0)\n"
     ]
    },
    {
     "name": "stderr",
     "output_type": "stream",
     "text": [
      "2024-02-01 07:34:23.097715: I external/local_tsl/tsl/cuda/cudart_stub.cc:31] Could not find cuda drivers on your machine, GPU will not be used.\n",
      "2024-02-01 07:34:23.162154: E external/local_xla/xla/stream_executor/cuda/cuda_dnn.cc:9261] Unable to register cuDNN factory: Attempting to register factory for plugin cuDNN when one has already been registered\n",
      "2024-02-01 07:34:23.162223: E external/local_xla/xla/stream_executor/cuda/cuda_fft.cc:607] Unable to register cuFFT factory: Attempting to register factory for plugin cuFFT when one has already been registered\n",
      "2024-02-01 07:34:23.163727: E external/local_xla/xla/stream_executor/cuda/cuda_blas.cc:1515] Unable to register cuBLAS factory: Attempting to register factory for plugin cuBLAS when one has already been registered\n",
      "2024-02-01 07:34:23.172744: I external/local_tsl/tsl/cuda/cudart_stub.cc:31] Could not find cuda drivers on your machine, GPU will not be used.\n",
      "2024-02-01 07:34:23.173405: I tensorflow/core/platform/cpu_feature_guard.cc:182] This TensorFlow binary is optimized to use available CPU instructions in performance-critical operations.\n",
      "To enable the following instructions: AVX2 FMA, in other operations, rebuild TensorFlow with the appropriate compiler flags.\n",
      "2024-02-01 07:34:24.499890: W tensorflow/compiler/tf2tensorrt/utils/py_utils.cc:38] TF-TRT Warning: Could not find TensorRT\n"
     ]
    }
   ],
   "source": [
    "!pip install tensorflow\n",
    "!pip install keras\n",
    "import tensorflow as tf\n",
    "from tensorflow.keras.models import Model\n",
    "from tensorflow.keras import datasets, layers, models\n",
    "from tensorflow.keras.utils import to_categorical\n",
    "from tensorflow.keras.models import Sequential\n",
    "from tensorflow.keras.layers import Dense"
   ]
  },
  {
   "cell_type": "code",
   "execution_count": 18,
   "id": "16b7cb77-2803-4cd0-920f-0adff2d698fd",
   "metadata": {},
   "outputs": [],
   "source": [
    "mnist = tf.keras.datasets.mnist\n",
    "(x_train, y_train), (x_test, y_test) = mnist.load_data()"
   ]
  },
  {
   "cell_type": "code",
   "execution_count": 19,
   "id": "3dd5502f-2f5c-4757-92c0-0d466f674fdb",
   "metadata": {},
   "outputs": [],
   "source": [
    "mnist= tf.keras.datasets.mnist"
   ]
  },
  {
   "cell_type": "code",
   "execution_count": 20,
   "id": "3ff8bac4-3346-4b41-8e57-cb4fbb54a8b7",
   "metadata": {},
   "outputs": [
    {
     "data": {
      "text/plain": [
       "[<keras.src.layers.convolutional.conv2d.Conv2D at 0x7fc510137520>,\n",
       " <keras.src.layers.pooling.max_pooling2d.MaxPooling2D at 0x7fc510137af0>,\n",
       " <keras.src.layers.convolutional.conv2d.Conv2D at 0x7fc28b877580>,\n",
       " <keras.src.layers.pooling.max_pooling2d.MaxPooling2D at 0x7fc28c2232e0>,\n",
       " <keras.src.layers.reshaping.flatten.Flatten at 0x7fc28c223250>,\n",
       " <keras.src.layers.core.dense.Dense at 0x7fc28b875f90>,\n",
       " <keras.src.layers.core.dense.Dense at 0x7fc28b8748e0>,\n",
       " <keras.src.layers.core.dense.Dense at 0x7fc28b877730>]"
      ]
     },
     "execution_count": 20,
     "metadata": {},
     "output_type": "execute_result"
    }
   ],
   "source": [
    "model = models.Sequential\n",
    "([ layers.Conv2D(6, (5, 5), activation='relu', input_shape=(28, 28, 1)),\n",
    "    layers.MaxPooling2D(pool_size=(2, 2), strides=(2, 2)),\n",
    "    layers.Conv2D(16, (5, 5), activation='relu'),\n",
    "    layers.MaxPooling2D(pool_size=(2, 2), strides=(2, 2)),\n",
    "    layers.Flatten(),\n",
    "    layers.Dense(120, activation='relu'),\n",
    "    layers.Dense(84, activation='relu'),\n",
    "    layers.Dense(10, activation='softmax')\n",
    "])"
   ]
  },
  {
   "cell_type": "code",
   "execution_count": 28,
   "id": "5b899093-d899-4a31-8bd5-334c29e43b04",
   "metadata": {},
   "outputs": [],
   "source": [
    "model.compile(optimizer='adam',\n",
    "              loss='sparse_categorical_crossentropy',\n",
    "              metrics=['accuracy'])"
   ]
  },
  {
   "cell_type": "code",
   "execution_count": 29,
   "id": "1d8c4a3b-1293-4dd2-a5de-55b176847c73",
   "metadata": {},
   "outputs": [
    {
     "name": "stdout",
     "output_type": "stream",
     "text": [
      "313/313 [==============================] - 1s 2ms/step - loss: 0.1663 - accuracy: 0.9625\n",
      "Test accuracy: 0.9624999761581421\n"
     ]
    }
   ],
   "source": [
    "# Evaluate the model\n",
    "test_loss, test_acc = model.evaluate(x_test, y_test)\n",
    "print('Test accuracy:', test_acc)"
   ]
  },
  {
   "cell_type": "raw",
   "id": "48c81d28-ef0d-4f6d-af61-e8749d5ed3fc",
   "metadata": {},
   "source": [
    "Q3. Train the neural network on the chosen dataset without using batch normalization"
   ]
  },
  {
   "cell_type": "code",
   "execution_count": 15,
   "id": "e580c4ba-3332-4008-9101-7fe15a5d51bd",
   "metadata": {},
   "outputs": [],
   "source": [
    "import tensorflow as tf\n",
    "from tensorflow.keras.models import Model\n",
    "from tensorflow.keras import datasets, layers, models\n",
    "from tensorflow.keras.utils import to_categorical\n",
    "from tensorflow.keras.models import Sequential\n",
    "from tensorflow.keras.layers import Dense"
   ]
  },
  {
   "cell_type": "code",
   "execution_count": 23,
   "id": "bfc3d43b-2cec-49cf-9c26-6790d77d67af",
   "metadata": {},
   "outputs": [],
   "source": [
    "mnist = tf.keras.datasets.mnist\n",
    "(x_train, y_train), (x_test, y_test) = mnist.load_data()"
   ]
  },
  {
   "cell_type": "code",
   "execution_count": 52,
   "id": "df89784f-2509-4abe-a54b-f21bbc7cf9fa",
   "metadata": {},
   "outputs": [],
   "source": [
    "model = models.Sequential([\n",
    "    layers.Flatten(input_shape=(28, 28)),  \n",
    "    layers.Dense(128, activation='relu'),\n",
    "    layers.Dense(64, activation='relu'),\n",
    "    layers.Dense(10, activation='softmax')  \n",
    "])"
   ]
  },
  {
   "cell_type": "code",
   "execution_count": 25,
   "id": "15cea1ab-efe8-4a15-b9e6-1811072168c1",
   "metadata": {},
   "outputs": [],
   "source": [
    "model.compile(optimizer='adam',\n",
    "              loss='sparse_categorical_crossentropy',\n",
    "              metrics=['accuracy'])"
   ]
  },
  {
   "cell_type": "code",
   "execution_count": 26,
   "id": "cec14a1a-2269-41e6-999a-13ddc4986e97",
   "metadata": {},
   "outputs": [
    {
     "name": "stdout",
     "output_type": "stream",
     "text": [
      "Epoch 1/10\n",
      "1875/1875 [==============================] - 7s 3ms/step - loss: 1.5472 - accuracy: 0.8556 - val_loss: 0.3511 - val_accuracy: 0.9111\n",
      "Epoch 2/10\n",
      "1875/1875 [==============================] - 6s 3ms/step - loss: 0.2929 - accuracy: 0.9232 - val_loss: 0.2644 - val_accuracy: 0.9287\n",
      "Epoch 3/10\n",
      "1875/1875 [==============================] - 6s 3ms/step - loss: 0.2114 - accuracy: 0.9420 - val_loss: 0.1957 - val_accuracy: 0.9492\n",
      "Epoch 4/10\n",
      "1875/1875 [==============================] - 6s 3ms/step - loss: 0.1662 - accuracy: 0.9525 - val_loss: 0.1919 - val_accuracy: 0.9413\n",
      "Epoch 5/10\n",
      "1875/1875 [==============================] - 6s 3ms/step - loss: 0.1388 - accuracy: 0.9610 - val_loss: 0.1703 - val_accuracy: 0.9573\n",
      "Epoch 6/10\n",
      "1875/1875 [==============================] - 6s 3ms/step - loss: 0.1294 - accuracy: 0.9638 - val_loss: 0.1644 - val_accuracy: 0.9598\n",
      "Epoch 7/10\n",
      "1875/1875 [==============================] - 6s 3ms/step - loss: 0.1177 - accuracy: 0.9679 - val_loss: 0.1536 - val_accuracy: 0.9608\n",
      "Epoch 8/10\n",
      "1875/1875 [==============================] - 6s 3ms/step - loss: 0.1070 - accuracy: 0.9704 - val_loss: 0.1474 - val_accuracy: 0.9632\n",
      "Epoch 9/10\n",
      "1875/1875 [==============================] - 6s 3ms/step - loss: 0.0946 - accuracy: 0.9741 - val_loss: 0.1346 - val_accuracy: 0.9672\n",
      "Epoch 10/10\n",
      "1875/1875 [==============================] - 6s 3ms/step - loss: 0.0870 - accuracy: 0.9762 - val_loss: 0.1663 - val_accuracy: 0.9625\n"
     ]
    },
    {
     "data": {
      "text/plain": [
       "<keras.src.callbacks.History at 0x7fc28b8c7b80>"
      ]
     },
     "execution_count": 26,
     "metadata": {},
     "output_type": "execute_result"
    }
   ],
   "source": [
    "model.fit(x_train, y_train, epochs=10, batch_size=32, validation_data=(x_test, y_test))"
   ]
  },
  {
   "cell_type": "code",
   "execution_count": 27,
   "id": "d83129a7-6dfe-4307-a3d9-4d9a9affc555",
   "metadata": {},
   "outputs": [
    {
     "name": "stdout",
     "output_type": "stream",
     "text": [
      "313/313 [==============================] - 0s 2ms/step - loss: 0.1663 - accuracy: 0.9625\n",
      "Test Accuracy: 0.9624999761581421\n"
     ]
    }
   ],
   "source": [
    "test_loss, test_acc = model.evaluate(x_test, y_test)\n",
    "print(\"Test Accuracy:\", test_acc)"
   ]
  },
  {
   "cell_type": "code",
   "execution_count": null,
   "id": "c468afb6-856f-4e7b-bee2-2bb354f22a0c",
   "metadata": {},
   "outputs": [],
   "source": [
    "Q4.  Implement batch normalization layers in the neural network and train the model againr"
   ]
  },
  {
   "cell_type": "code",
   "execution_count": 30,
   "id": "b6ad03ef-554e-446d-ac01-8b0f020d3c18",
   "metadata": {},
   "outputs": [],
   "source": [
    "import tensorflow as tf\n",
    "from tensorflow.keras import layers, models"
   ]
  },
  {
   "cell_type": "code",
   "execution_count": 51,
   "id": "f0fb8fea-defb-4006-80ae-3f8ca5c6a8eb",
   "metadata": {},
   "outputs": [],
   "source": [
    "model = models.Sequential([\n",
    "    layers.Flatten(input_shape=(28, 28)),  \n",
    "    layers.Dense(128),\n",
    "    layers.BatchNormalization(),  \n",
    "    layers.ReLU(),  \n",
    "    layers.Dense(64),\n",
    "    layers.BatchNormalization(), \n",
    "    layers.ReLU(),  \n",
    "    layers.Dense(10, activation='softmax')  \n",
    "])"
   ]
  },
  {
   "cell_type": "code",
   "execution_count": 32,
   "id": "c17597e2-f1aa-4e84-93f1-08bef5bf0d75",
   "metadata": {},
   "outputs": [],
   "source": [
    "model.compile(optimizer='adam',\n",
    "              loss='sparse_categorical_crossentropy',\n",
    "              metrics=['accuracy'])"
   ]
  },
  {
   "cell_type": "code",
   "execution_count": 33,
   "id": "8e6c0074-a54f-4dd1-8b6a-16fa88e47231",
   "metadata": {},
   "outputs": [
    {
     "name": "stdout",
     "output_type": "stream",
     "text": [
      "313/313 [==============================] - 1s 2ms/step - loss: 139.4737 - accuracy: 0.1242\n",
      "Test Accuracy: 0.1242000013589859\n"
     ]
    }
   ],
   "source": [
    "test_loss, test_acc = model.evaluate(x_test, y_test)\n",
    "print(\"Test Accuracy:\", test_acc)"
   ]
  },
  {
   "cell_type": "markdown",
   "id": "0dc73de1-28b3-4848-b3d3-e5605dfbfa19",
   "metadata": {},
   "source": [
    "Q5. Compare the training and validation performance (e.g., accuracy, loss) between the models with and \n",
    "without batch normalization."
   ]
  },
  {
   "cell_type": "code",
   "execution_count": 50,
   "id": "9813563c-b751-4b63-99ff-ab79093e5cb4",
   "metadata": {},
   "outputs": [],
   "source": [
    "def build_model_without_bn():\n",
    "    model = models.Sequential([\n",
    "        layers.Flatten(input_shape=(28, 28)),  \n",
    "        layers.Dense(128, activation='relu'),\n",
    "        layers.Dense(64, activation='relu'),\n",
    "        layers.Dense(10, activation='softmax')  \n",
    "    ])\n",
    "    return model"
   ]
  },
  {
   "cell_type": "code",
   "execution_count": 49,
   "id": "9e5b4dad-5510-4e26-b8b1-a0755f300ef5",
   "metadata": {},
   "outputs": [],
   "source": [
    "def build_model_with_bn():\n",
    "    model = models.Sequential([\n",
    "        layers.Flatten(input_shape=(28, 28)),  \n",
    "        layers.Dense(128),\n",
    "        layers.BatchNormalization(),  \n",
    "        layers.ReLU(),  \n",
    "        layers.Dense(64),\n",
    "        layers.BatchNormalization(),  \n",
    "        layers.ReLU(),  \n",
    "        layers.Dense(10, activation='softmax')  \n",
    "    ])\n",
    "    return model\n"
   ]
  },
  {
   "cell_type": "code",
   "execution_count": 36,
   "id": "ac88d2e5-2049-48e6-971a-fb3fa3ff734d",
   "metadata": {},
   "outputs": [],
   "source": [
    "model_without_bn = build_model_without_bn()\n",
    "model_without_bn.compile(optimizer='adam',\n",
    "                         loss='sparse_categorical_crossentropy',\n",
    "                         metrics=['accuracy'])\n",
    "\n",
    "model_with_bn = build_model_with_bn()\n",
    "model_with_bn.compile(optimizer='adam',\n",
    "                      loss='sparse_categorical_crossentropy',\n",
    "                      metrics=['accuracy'])\n"
   ]
  },
  {
   "cell_type": "code",
   "execution_count": 37,
   "id": "6143f403-4f4d-488d-8b61-bfa28e539487",
   "metadata": {},
   "outputs": [
    {
     "name": "stdout",
     "output_type": "stream",
     "text": [
      "Epoch 1/10\n",
      "1875/1875 [==============================] - 7s 3ms/step - loss: 1.8993 - accuracy: 0.8617 - val_loss: 0.4744 - val_accuracy: 0.9035\n",
      "Epoch 2/10\n",
      "1875/1875 [==============================] - 6s 3ms/step - loss: 0.3346 - accuracy: 0.9235 - val_loss: 0.2732 - val_accuracy: 0.9367\n",
      "Epoch 3/10\n",
      "1875/1875 [==============================] - 6s 3ms/step - loss: 0.2181 - accuracy: 0.9429 - val_loss: 0.2269 - val_accuracy: 0.9465\n",
      "Epoch 4/10\n",
      "1875/1875 [==============================] - 6s 3ms/step - loss: 0.1636 - accuracy: 0.9545 - val_loss: 0.1771 - val_accuracy: 0.9551\n",
      "Epoch 5/10\n",
      "1875/1875 [==============================] - 6s 3ms/step - loss: 0.1433 - accuracy: 0.9585 - val_loss: 0.1365 - val_accuracy: 0.9624\n",
      "Epoch 6/10\n",
      "1875/1875 [==============================] - 6s 3ms/step - loss: 0.1181 - accuracy: 0.9664 - val_loss: 0.1348 - val_accuracy: 0.9656\n",
      "Epoch 7/10\n",
      "1875/1875 [==============================] - 6s 3ms/step - loss: 0.1084 - accuracy: 0.9686 - val_loss: 0.1402 - val_accuracy: 0.9634\n",
      "Epoch 8/10\n",
      "1875/1875 [==============================] - 6s 3ms/step - loss: 0.1004 - accuracy: 0.9722 - val_loss: 0.1342 - val_accuracy: 0.9678\n",
      "Epoch 9/10\n",
      "1875/1875 [==============================] - 6s 3ms/step - loss: 0.0937 - accuracy: 0.9742 - val_loss: 0.1538 - val_accuracy: 0.9628\n",
      "Epoch 10/10\n",
      "1875/1875 [==============================] - 6s 3ms/step - loss: 0.0852 - accuracy: 0.9762 - val_loss: 0.1520 - val_accuracy: 0.9664\n",
      "Epoch 1/10\n",
      "1875/1875 [==============================] - 9s 4ms/step - loss: 0.2532 - accuracy: 0.9269 - val_loss: 0.1180 - val_accuracy: 0.9639\n",
      "Epoch 2/10\n",
      "1875/1875 [==============================] - 7s 4ms/step - loss: 0.1132 - accuracy: 0.9640 - val_loss: 0.0845 - val_accuracy: 0.9732\n",
      "Epoch 3/10\n",
      "1875/1875 [==============================] - 7s 4ms/step - loss: 0.0842 - accuracy: 0.9737 - val_loss: 0.0769 - val_accuracy: 0.9763\n",
      "Epoch 4/10\n",
      "1875/1875 [==============================] - 7s 4ms/step - loss: 0.0708 - accuracy: 0.9767 - val_loss: 0.0678 - val_accuracy: 0.9777\n",
      "Epoch 5/10\n",
      "1875/1875 [==============================] - 7s 4ms/step - loss: 0.0576 - accuracy: 0.9815 - val_loss: 0.0633 - val_accuracy: 0.9797\n",
      "Epoch 6/10\n",
      "1875/1875 [==============================] - 7s 4ms/step - loss: 0.0503 - accuracy: 0.9837 - val_loss: 0.0682 - val_accuracy: 0.9773\n",
      "Epoch 7/10\n",
      "1875/1875 [==============================] - 7s 4ms/step - loss: 0.0473 - accuracy: 0.9841 - val_loss: 0.0677 - val_accuracy: 0.9792\n",
      "Epoch 8/10\n",
      "1875/1875 [==============================] - 7s 4ms/step - loss: 0.0389 - accuracy: 0.9873 - val_loss: 0.0619 - val_accuracy: 0.9807\n",
      "Epoch 9/10\n",
      "1875/1875 [==============================] - 7s 4ms/step - loss: 0.0359 - accuracy: 0.9882 - val_loss: 0.0642 - val_accuracy: 0.9795\n",
      "Epoch 10/10\n",
      "1875/1875 [==============================] - 7s 4ms/step - loss: 0.0336 - accuracy: 0.9887 - val_loss: 0.0713 - val_accuracy: 0.9783\n"
     ]
    }
   ],
   "source": [
    "history_without_bn = model_without_bn.fit(x_train, y_train, epochs=10, batch_size=32, validation_data=(x_test, y_test))\n",
    "history_with_bn = model_with_bn.fit(x_train, y_train, epochs=10, batch_size=32, validation_data=(x_test, y_test))\n"
   ]
  },
  {
   "cell_type": "code",
   "execution_count": 38,
   "id": "38ed5c2f-43d6-48a2-95cc-2c834df62a91",
   "metadata": {},
   "outputs": [
    {
     "name": "stdout",
     "output_type": "stream",
     "text": [
      "313/313 [==============================] - 0s 1ms/step - loss: 0.1520 - accuracy: 0.9664\n",
      "Model without Batch Normalization - Test Accuracy: 0.9664000272750854\n"
     ]
    }
   ],
   "source": [
    "test_loss_without_bn, test_acc_without_bn = model_without_bn.evaluate(x_test, y_test)\n",
    "print(\"Model without Batch Normalization - Test Accuracy:\", test_acc_without_bn)\n"
   ]
  },
  {
   "cell_type": "code",
   "execution_count": 39,
   "id": "5f6ec6dd-a7af-4a3f-b3e0-03ad613210ad",
   "metadata": {},
   "outputs": [
    {
     "name": "stdout",
     "output_type": "stream",
     "text": [
      "313/313 [==============================] - 1s 2ms/step - loss: 0.0713 - accuracy: 0.9783\n",
      "Model with Batch Normalization - Test Accuracy: 0.9782999753952026\n"
     ]
    }
   ],
   "source": [
    "test_loss_with_bn, test_acc_with_bn = model_with_bn.evaluate(x_test, y_test)\n",
    "print(\"Model with Batch Normalization - Test Accuracy:\", test_acc_with_bn)\n"
   ]
  },
  {
   "cell_type": "code",
   "execution_count": 40,
   "id": "948f2376-1d5c-484a-ac7a-d1bb176c7416",
   "metadata": {},
   "outputs": [],
   "source": [
    "import matplotlib.pyplot as plt\n"
   ]
  },
  {
   "cell_type": "code",
   "execution_count": 41,
   "id": "d3313b5c-4208-4ced-b8dd-829f3cabf977",
   "metadata": {},
   "outputs": [
    {
     "data": {
      "image/png": "[encoded data removed]",
      "text/plain": [
       "<Figure size 640x480 with 1 Axes>"
      ]
     },
     "metadata": {},
     "output_type": "display_data"
    }
   ],
   "source": [
    "plt.plot(history_without_bn.history['accuracy'], label='Without Batch Normalization - Training Accuracy')\n",
    "plt.plot(history_without_bn.history['val_accuracy'], label='Without Batch Normalization - Validation Accuracy')\n",
    "plt.plot(history_with_bn.history['accuracy'], label='With Batch Normalization - Training Accuracy')\n",
    "plt.plot(history_with_bn.history['val_accuracy'], label='With Batch Normalization - Validation Accuracy')\n",
    "plt.xlabel('Epochs')\n",
    "plt.ylabel('Accuracy')\n",
    "plt.legend()\n",
    "plt.show()"
   ]
  },
  {
   "cell_type": "code",
   "execution_count": 42,
   "id": "2209bd03-7b7a-48e1-8985-54e7e5d6b252",
   "metadata": {},
   "outputs": [
    {
     "data": {
      "image/png": "[encoded data removed]",
      "text/plain": [
       "<Figure size 640x480 with 1 Axes>"
      ]
     },
     "metadata": {},
     "output_type": "display_data"
    }
   ],
   "source": [
    "plt.plot(history_without_bn.history['loss'], label='Without Batch Normalization - Training Loss')\n",
    "plt.plot(history_without_bn.history['val_loss'], label='Without Batch Normalization - Validation Loss')\n",
    "plt.plot(history_with_bn.history['loss'], label='With Batch Normalization - Training Loss')\n",
    "plt.plot(history_with_bn.history['val_loss'], label='With Batch Normalization - Validation Loss')\n",
    "plt.xlabel('Epochs')\n",
    "plt.ylabel('Loss')\n",
    "plt.legend()\n",
    "plt.show()"
   ]
  },
  {
   "cell_type": "code",
   "execution_count": null,
   "id": "2a830598-0941-437c-a521-77488bc023be",
   "metadata": {},
   "outputs": [],
   "source": [
    "                                                        3. ExperimentatiTn and Înalysis"
   ]
  },
  {
   "cell_type": "markdown",
   "id": "23236a72-39f8-4ebc-b4fe-91a800e39b8b",
   "metadata": {},
   "source": [
    "Q1. Experiment with different batch sizes and observe the effect on the training dynamics and model \n",
    "performance. "
   ]
  },
  {
   "cell_type": "code",
   "execution_count": 43,
   "id": "5c12459f-13ff-4750-8ff7-60f07c08fba1",
   "metadata": {},
   "outputs": [],
   "source": [
    "import tensorflow as tf\n",
    "from tensorflow.keras import layers, models"
   ]
  },
  {
   "cell_type": "code",
   "execution_count": 48,
   "id": "1898e628-e4f7-4f7a-83b0-6a210857ffc3",
   "metadata": {},
   "outputs": [],
   "source": [
    "def build_model():\n",
    "    model = models.Sequential([\n",
    "        layers.Flatten(input_shape=(28, 28)),  \n",
    "        layers.Dense(128, activation='relu'),\n",
    "        layers.Dense(64, activation='relu'),\n",
    "        layers.Dense(10, activation='softmax')  \n",
    "    ])\n",
    "    return model"
   ]
  },
  {
   "cell_type": "code",
   "execution_count": 45,
   "id": "a06ae7d3-fee0-4d00-99e9-824693db312f",
   "metadata": {},
   "outputs": [],
   "source": [
    "model = build_model()\n",
    "model.compile(optimizer='adam',\n",
    "              loss='sparse_categorical_crossentropy',\n",
    "              metrics=['accuracy'])\n"
   ]
  },
  {
   "cell_type": "code",
   "execution_count": 46,
   "id": "fbaaa504-a6aa-40bf-b5d6-23f58cfb3d21",
   "metadata": {},
   "outputs": [
    {
     "name": "stdout",
     "output_type": "stream",
     "text": [
      "Training with batch size: 16\n",
      "Epoch 1/10\n",
      "3750/3750 [==============================] - 12s 3ms/step - loss: 1.1718 - accuracy: 0.8470 - val_loss: 0.3223 - val_accuracy: 0.9167\n",
      "Epoch 2/10\n",
      "3750/3750 [==============================] - 11s 3ms/step - loss: 0.2762 - accuracy: 0.9278 - val_loss: 0.3245 - val_accuracy: 0.9253\n",
      "Epoch 3/10\n",
      "3750/3750 [==============================] - 11s 3ms/step - loss: 0.2044 - accuracy: 0.9472 - val_loss: 0.1813 - val_accuracy: 0.9522\n",
      "Epoch 4/10\n",
      "3750/3750 [==============================] - 11s 3ms/step - loss: 0.1703 - accuracy: 0.9564 - val_loss: 0.1828 - val_accuracy: 0.9581\n",
      "Epoch 5/10\n",
      "3750/3750 [==============================] - 11s 3ms/step - loss: 0.1450 - accuracy: 0.9637 - val_loss: 0.1832 - val_accuracy: 0.9563\n",
      "Epoch 6/10\n",
      "3750/3750 [==============================] - 11s 3ms/step - loss: 0.1321 - accuracy: 0.9671 - val_loss: 0.1556 - val_accuracy: 0.9617\n",
      "Epoch 7/10\n",
      "3750/3750 [==============================] - 11s 3ms/step - loss: 0.1263 - accuracy: 0.9691 - val_loss: 0.1494 - val_accuracy: 0.9687\n",
      "Epoch 8/10\n",
      "3750/3750 [==============================] - 11s 3ms/step - loss: 0.1133 - accuracy: 0.9720 - val_loss: 0.1707 - val_accuracy: 0.9669\n",
      "Epoch 9/10\n",
      "3750/3750 [==============================] - 11s 3ms/step - loss: 0.1172 - accuracy: 0.9722 - val_loss: 0.1813 - val_accuracy: 0.9650\n",
      "Epoch 10/10\n",
      "3750/3750 [==============================] - 11s 3ms/step - loss: 0.1132 - accuracy: 0.9743 - val_loss: 0.2135 - val_accuracy: 0.9577\n",
      "Training with batch size: 32\n",
      "Epoch 1/10\n",
      "1875/1875 [==============================] - 7s 3ms/step - loss: 0.0672 - accuracy: 0.9825 - val_loss: 0.1587 - val_accuracy: 0.9704\n",
      "Epoch 2/10\n",
      "1875/1875 [==============================] - 6s 3ms/step - loss: 0.0646 - accuracy: 0.9835 - val_loss: 0.1622 - val_accuracy: 0.9716\n",
      "Epoch 3/10\n",
      "1875/1875 [==============================] - 6s 3ms/step - loss: 0.0666 - accuracy: 0.9833 - val_loss: 0.1983 - val_accuracy: 0.9652\n",
      "Epoch 4/10\n",
      "1875/1875 [==============================] - 6s 3ms/step - loss: 0.0641 - accuracy: 0.9835 - val_loss: 0.1880 - val_accuracy: 0.9694\n",
      "Epoch 5/10\n",
      "1875/1875 [==============================] - 6s 3ms/step - loss: 0.0639 - accuracy: 0.9841 - val_loss: 0.1833 - val_accuracy: 0.9700\n",
      "Epoch 6/10\n",
      "1875/1875 [==============================] - 6s 3ms/step - loss: 0.0598 - accuracy: 0.9849 - val_loss: 0.2300 - val_accuracy: 0.9676\n",
      "Epoch 7/10\n",
      "1875/1875 [==============================] - 6s 3ms/step - loss: 0.0616 - accuracy: 0.9849 - val_loss: 0.1898 - val_accuracy: 0.9734\n",
      "Epoch 8/10\n",
      "1875/1875 [==============================] - 6s 3ms/step - loss: 0.0658 - accuracy: 0.9843 - val_loss: 0.2059 - val_accuracy: 0.9708\n",
      "Epoch 9/10\n",
      "1875/1875 [==============================] - 6s 3ms/step - loss: 0.0506 - accuracy: 0.9870 - val_loss: 0.2840 - val_accuracy: 0.9669\n",
      "Epoch 10/10\n",
      "1875/1875 [==============================] - 6s 3ms/step - loss: 0.0586 - accuracy: 0.9853 - val_loss: 0.2236 - val_accuracy: 0.9696\n",
      "Training with batch size: 64\n",
      "Epoch 1/10\n",
      "938/938 [==============================] - 3s 4ms/step - loss: 0.0302 - accuracy: 0.9909 - val_loss: 0.1977 - val_accuracy: 0.9736\n",
      "Epoch 2/10\n",
      "938/938 [==============================] - 3s 4ms/step - loss: 0.0284 - accuracy: 0.9916 - val_loss: 0.2170 - val_accuracy: 0.9728\n",
      "Epoch 3/10\n",
      "938/938 [==============================] - 3s 4ms/step - loss: 0.0397 - accuracy: 0.9903 - val_loss: 0.2326 - val_accuracy: 0.9723\n",
      "Epoch 4/10\n",
      "938/938 [==============================] - 3s 4ms/step - loss: 0.0374 - accuracy: 0.9904 - val_loss: 0.2246 - val_accuracy: 0.9743\n",
      "Epoch 5/10\n",
      "938/938 [==============================] - 3s 4ms/step - loss: 0.0310 - accuracy: 0.9915 - val_loss: 0.2697 - val_accuracy: 0.9708\n",
      "Epoch 6/10\n",
      "938/938 [==============================] - 3s 4ms/step - loss: 0.0412 - accuracy: 0.9904 - val_loss: 0.3163 - val_accuracy: 0.9685\n",
      "Epoch 7/10\n",
      "938/938 [==============================] - 3s 4ms/step - loss: 0.0370 - accuracy: 0.9909 - val_loss: 0.2515 - val_accuracy: 0.9703\n",
      "Epoch 8/10\n",
      "938/938 [==============================] - 3s 4ms/step - loss: 0.0324 - accuracy: 0.9915 - val_loss: 0.3097 - val_accuracy: 0.9737\n",
      "Epoch 9/10\n",
      "938/938 [==============================] - 3s 4ms/step - loss: 0.0287 - accuracy: 0.9920 - val_loss: 0.3450 - val_accuracy: 0.9666\n",
      "Epoch 10/10\n",
      "938/938 [==============================] - 3s 4ms/step - loss: 0.0320 - accuracy: 0.9919 - val_loss: 0.2811 - val_accuracy: 0.9742\n",
      "Training with batch size: 128\n",
      "Epoch 1/10\n",
      "469/469 [==============================] - 2s 4ms/step - loss: 0.0162 - accuracy: 0.9948 - val_loss: 0.2668 - val_accuracy: 0.9750\n",
      "Epoch 2/10\n",
      "469/469 [==============================] - 2s 4ms/step - loss: 0.0129 - accuracy: 0.9956 - val_loss: 0.2825 - val_accuracy: 0.9754\n",
      "Epoch 3/10\n",
      "469/469 [==============================] - 2s 4ms/step - loss: 0.0108 - accuracy: 0.9960 - val_loss: 0.3060 - val_accuracy: 0.9758\n",
      "Epoch 4/10\n",
      "469/469 [==============================] - 2s 4ms/step - loss: 0.0142 - accuracy: 0.9953 - val_loss: 0.3242 - val_accuracy: 0.9745\n",
      "Epoch 5/10\n",
      "469/469 [==============================] - 2s 4ms/step - loss: 0.0222 - accuracy: 0.9938 - val_loss: 0.2890 - val_accuracy: 0.9735\n",
      "Epoch 6/10\n",
      "469/469 [==============================] - 2s 4ms/step - loss: 0.0192 - accuracy: 0.9947 - val_loss: 0.3120 - val_accuracy: 0.9741\n",
      "Epoch 7/10\n",
      "469/469 [==============================] - 2s 4ms/step - loss: 0.0166 - accuracy: 0.9950 - val_loss: 0.3677 - val_accuracy: 0.9760\n",
      "Epoch 8/10\n",
      "469/469 [==============================] - 2s 4ms/step - loss: 0.0221 - accuracy: 0.9942 - val_loss: 0.3029 - val_accuracy: 0.9763\n",
      "Epoch 9/10\n",
      "469/469 [==============================] - 2s 4ms/step - loss: 0.0131 - accuracy: 0.9957 - val_loss: 0.3008 - val_accuracy: 0.9754\n",
      "Epoch 10/10\n",
      "469/469 [==============================] - 2s 4ms/step - loss: 0.0170 - accuracy: 0.9953 - val_loss: 0.3072 - val_accuracy: 0.9741\n"
     ]
    }
   ],
   "source": [
    "batch_sizes = [16, 32, 64, 128]\n",
    "histories = []\n",
    "\n",
    "for batch_size in batch_sizes:\n",
    "    print(f\"Training with batch size: {batch_size}\")\n",
    "    history = model.fit(x_train, y_train, epochs=10, batch_size=batch_size, validation_data=(x_test, y_test))\n",
    "    histories.append(history)\n"
   ]
  },
  {
   "cell_type": "code",
   "execution_count": 47,
   "id": "3a17d866-239e-4088-a396-c8cbacd46240",
   "metadata": {},
   "outputs": [
    {
     "data": {
      "image/png": "[encoded data removed]",
      "text/plain": [
       "<Figure size 640x480 with 1 Axes>"
      ]
     },
     "metadata": {},
     "output_type": "display_data"
    }
   ],
   "source": [
    "import matplotlib.pyplot as plt\n",
    "\n",
    "for i, history in enumerate(histories):\n",
    "    plt.plot(history.history['val_accuracy'], label=f'Batch Size: {batch_sizes[i]}')\n",
    "\n",
    "plt.xlabel('Epochs')\n",
    "plt.ylabel('Validation Accuracy')\n",
    "plt.title('Effect of Batch Size on Validation Accuracy')\n",
    "plt.legend()\n",
    "plt.show()"
   ]
  },
  {
   "cell_type": "markdown",
   "id": "cb53bc33-b310-47bd-b25e-fe90c1d2df88",
   "metadata": {},
   "source": [
    "Q2. Discuss the advantages and potential limitations of batch normalization in improving the training of \n",
    "neural networks. "
   ]
  },
  {
   "cell_type": "markdown",
   "id": "a5cf909b-dd1a-446e-87c7-ca1a16b24230",
   "metadata": {},
   "source": [
    "Batch normalization (BN) is a technique commonly used in training deep neural networks that aims to improve convergence speed, training stability, and generalization performance. Here are some advantages and potential limitations of batch normalization:\n",
    "\n",
    "Advantages:\n",
    "\n",
    "1. Improved Convergence Speed: Batch normalization helps in faster convergence during training by reducing internal covariate shift. This allows the model to converge faster, meaning fewer epochs are required to achieve a certain level of performance.\n",
    "\n",
    "2. Stabilizes Training: BN normalizes the inputs to each layer across mini-batches, which reduces the likelihood of vanishing or exploding gradients. This stabilization effect allows for deeper networks to be trained more effectively.\n",
    "\n",
    "3. Regularization Effect: Batch normalization adds some noise to each layer during training due to the normalization process. This acts as a form of regularization, which can reduce overfitting and improve the model's generalization performance.\n",
    "\n",
    "4. Allows for Higher Learning Rates: With batch normalization, it's often possible to use higher learning rates during training without causing the optimization process to diverge. This can further accelerate the training process.\n",
    "\n",
    "5. Makes Network Less Sensitive to Weight Initialization: BN reduces the sensitivity of the model to the initial values of weights, allowing for more flexibility in weight initialization methods.\n",
    "\n",
    "6. Removes the Need for Excessive Dropout: Batch normalization can mitigate the need for excessive dropout, as it already introduces some form of regularization by adding noise to the network during training.\n",
    "\n",
    "\n",
    "Limitations:\n",
    "\n",
    "1. Batch Size Dependency: Batch normalization computes statistics (mean and variance) over each mini-batch during training. As a result, batch normalization can be sensitive to the choice of batch size. Very small batch sizes may lead to inaccurate estimates of statistics, while very large batch sizes may diminish the regularization effect.\n",
    "\n",
    "2. Not Suitable for Very Small Datasets: In cases where the dataset is very small, batch normalization may not perform optimally, as the statistics computed from small mini-batches may not accurately represent the entire dataset.\n",
    "\n",
    "3. Not Suitable for Recurrent Networks: In recurrent neural networks (RNNs) and its variants like LSTMs and GRUs, batch normalization may not perform well due to the temporal nature of the data. Alternative normalization techniques like layer normalization or instance normalization are preferred in such cases.\n",
    "\n",
    "4. Test-Time Statistics: During inference, the statistics (mean and variance) computed during training might not be representative of the test data. Techniques like running average of batch statistics or batch renormalization are used to address this issue.\n",
    "\n",
    "5. Computational Overhead: Batch normalization adds additional computations during training, as it requires computing mean and variance for each mini-batch. While this overhead is generally negligible, it can become significant for models with very large batch sizes or in resource-constrained environments.\n"
   ]
  },
  {
   "cell_type": "code",
   "execution_count": null,
   "id": "74a8da94-68aa-4768-b4f3-5139b96808ff",
   "metadata": {},
   "outputs": [],
   "source": []
  },
  {
   "cell_type": "code",
   "execution_count": null,
   "id": "93e95d61-a9ba-4c26-a970-8c956ae4823a",
   "metadata": {},
   "outputs": [],
   "source": []
  }
 ],
 "metadata": {
  "kernelspec": {
   "display_name": "Python 3 (ipykernel)",
   "language": "python",
   "name": "python3"
  },
  "language_info": {
   "codemirror_mode": {
    "name": "ipython",
    "version": 3
   },
   "file_extension": ".py",
   "mimetype": "text/x-python",
   "name": "python",
   "nbconvert_exporter": "python",
   "pygments_lexer": "ipython3",
   "version": "3.10.8"
  }
 },
 "nbformat": 4,
 "nbformat_minor": 5
}
